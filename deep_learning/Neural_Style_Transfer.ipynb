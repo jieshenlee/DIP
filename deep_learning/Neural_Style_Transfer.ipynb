{
  "cells": [
    {
      "cell_type": "markdown",
      "metadata": {
        "id": "eqxUicSPUOP6"
      },
      "source": [
        "### Imports"
      ]
    },
    {
      "cell_type": "code",
      "execution_count": 36,
      "metadata": {
        "id": "sc1OLbOWhPCO"
      },
      "outputs": [],
      "source": [
        "try:\n",
        "  # %tensorflow_version only exists in Colab.\n",
        "  %tensorflow_version 2.x\n",
        "except Exception:\n",
        "  pass\n",
        "\n",
        "import tensorflow as tf\n",
        "\n",
        "import matplotlib.pyplot as plt\n",
        "import numpy as np\n",
        "from keras import backend as K\n",
        "\n",
        "from imageio import mimsave\n",
        "from IPython.display import display as display_fn\n",
        "from IPython.display import Image, clear_output\n",
        "\n",
        "#dependencies for the UI\n",
        "import customtkinter as ctk\n",
        "from tkinter import filedialog\n",
        "from PIL import Image, ImageTk\n",
        "import torch\n",
        "from torchvision import transforms\n",
        "import io"
      ]
    },
    {
      "cell_type": "code",
      "execution_count": null,
      "metadata": {},
      "outputs": [],
      "source": [
        "import tensorflow as tf\n",
        "from PIL import Image\n",
        "from tkinter import filedialog\n",
        "from tkinter import Label\n",
        "\n",
        "# Initialize global variables\n",
        "content_image = None\n",
        "style_image = None\n",
        "\n",
        "def load_content_image():\n",
        "    global content_image\n",
        "    file_path = filedialog.askopenfilename(title=\"Select Content Image\", filetypes=[(\"Image Files\", \"*.jpg;*.jpeg;*.png\")])\n",
        "    \n",
        "    if file_path:\n",
        "        content_image = Image.open(file_path).convert(\"RGB\")\n",
        "        print(\"Content image loaded:\", content_image)  # Debug line\n",
        "        update_image_display(content_image, content_image_label)\n",
        "\n",
        "def load_style_image():\n",
        "    global style_image\n",
        "    file_path = filedialog.askopenfilename(title=\"Select Style Image\", filetypes=[(\"Image Files\", \"*.jpg;*.jpeg;*.png\")])\n",
        "    \n",
        "    if file_path:\n",
        "        style_image = Image.open(file_path).convert(\"RGB\")\n",
        "        print(\"Style image loaded:\", style_image)  # Debug line\n",
        "        update_image_display(style_image, style_image_label)\n",
        "        \n",
        "        \n",
        "def preprocess_image(image):\n",
        "    '''Preprocess the image for the neural network.'''\n",
        "    img_array = tf.convert_to_tensor(np.array(image), dtype=tf.float32)\n",
        "    img_array = tf.image.resize(img_array, (512, 512))  # Resize to the expected input shape\n",
        "    img_array = img_array[tf.newaxis, :]  # Add batch dimension\n",
        "    img_array = tf.keras.applications.vgg19.preprocess_input(img_array)  # Preprocess for VGG19\n",
        "    print(\"Preprocessed image tensor shape:\", img_array.shape)  # Debug line\n",
        "    return img_array\n",
        "\n",
        "def run_style_transfer():\n",
        "    if content_image is None or style_image is None:\n",
        "        result_label.config(text=\"Please upload both images.\")\n",
        "        return\n",
        "    \n",
        "    result_label.config(text=\"Processing...\")\n",
        "    \n",
        "    # Convert PIL images to tensors\n",
        "    content_image_tensor = preprocess_image(content_image)\n",
        "    style_image_tensor = preprocess_image(style_image)\n",
        "\n",
        "    # Check that tensors are valid\n",
        "    if content_image_tensor is None or style_image_tensor is None:\n",
        "        result_label.config(text=\"Error processing images.\")\n",
        "        return\n",
        "\n",
        "    # Call the neural style transfer function\n",
        "    output_image = neural_style_transfer(content_image_tensor, style_image_tensor)\n",
        "    \n",
        "    # Convert output tensor to PIL Image for display\n",
        "    output_image = Image.fromarray(np.clip(output_image.numpy(), 0, 255).astype(np.uint8))\n",
        "\n",
        "    output_img_tk = ImageTk.PhotoImage(output_image)\n",
        "    output_image_label.configure(image=output_img_tk)\n",
        "    output_image_label.image = output_img_tk\n",
        "    result_label.config(text=\"Transfer Complete!\")\n",
        "\n",
        "\n"
      ]
    },
    {
      "cell_type": "code",
      "execution_count": null,
      "metadata": {},
      "outputs": [],
      "source": [
        "\n",
        "# Initialize the main window\n",
        "app = ctk.CTk()\n",
        "app.geometry(\"1000x600\")  # Adjusted size for better layout\n",
        "app.title(\"Neural Style Transfer\")\n",
        "\n",
        "# Create content image section\n",
        "content_label = ctk.CTkLabel(app, text=\"Content Image\")\n",
        "content_label.grid(row=0, column=0, padx=20, pady=20)\n",
        "content_image_label = ctk.CTkLabel(app)\n",
        "content_image_label.grid(row=1, column=0, padx=20, pady=20)\n",
        "content_button = ctk.CTkButton(app, text=\"Upload Content Image\", command=load_content_image)\n",
        "content_button.grid(row=2, column=0, padx=20, pady=20)\n",
        "\n",
        "# Create style image section\n",
        "style_label = ctk.CTkLabel(app, text=\"Style Image\")\n",
        "style_label.grid(row=0, column=1, padx=20, pady=20)\n",
        "style_image_label = ctk.CTkLabel(app)\n",
        "style_image_label.grid(row=1, column=1, padx=20, pady=20)\n",
        "style_button = ctk.CTkButton(app, text=\"Upload Style Image\", command=load_style_image)\n",
        "style_button.grid(row=2, column=1, padx=20, pady=20)\n",
        "\n",
        "# Output image display section\n",
        "output_label = ctk.CTkLabel(app, text=\"Output Image\")\n",
        "output_label.grid(row=0, column=2, padx=20, pady=20)\n",
        "output_image_label = ctk.CTkLabel(app)\n",
        "output_image_label.grid(row=1, column=2, padx=20, pady=20)\n",
        "\n",
        "# Create result status label and transfer button\n",
        "result_label = ctk.CTkLabel(app, text=\"\")\n",
        "result_label.grid(row=2, column=2, padx=20, pady=20)\n",
        "\n",
        "transfer_button = ctk.CTkButton(app, text=\"Transfer Style\", command=run_style_transfer)\n",
        "transfer_button.grid(row=3, column=1, padx=20, pady=20)\n",
        "\n",
        "\n",
        "# Start the main event loop\n",
        "app.mainloop()\n"
      ]
    },
    {
      "cell_type": "markdown",
      "metadata": {
        "id": "9xsoomkO2T6L"
      },
      "source": [
        "**Awesome work! You have now completed the labs for Neural Style Transfer!**"
      ]
    }
  ],
  "metadata": {
    "accelerator": "GPU",
    "colab": {
      "collapsed_sections": [],
      "name": "C4_W1_Lab_1_Neural_Style_Transfer.ipynb",
      "provenance": []
    },
    "kernelspec": {
      "display_name": "Python 3",
      "language": "python",
      "name": "python3"
    },
    "language_info": {
      "codemirror_mode": {
        "name": "ipython",
        "version": 3
      },
      "file_extension": ".py",
      "mimetype": "text/x-python",
      "name": "python",
      "nbconvert_exporter": "python",
      "pygments_lexer": "ipython3",
      "version": "3.12.7"
    }
  },
  "nbformat": 4,
  "nbformat_minor": 0
}
