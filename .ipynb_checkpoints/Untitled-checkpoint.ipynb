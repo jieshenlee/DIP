{
 "cells": [
  {
   "cell_type": "code",
   "execution_count": null,
   "id": "6809dd44-b392-4849-a2f5-ae375c40d9f5",
   "metadata": {},
   "outputs": [],
   "source": [
    "import tkinter as tk\n",
    "from tkinter import filedialog, ttk, messagebox\n",
    "from PIL import Image, ImageOps, ImageTk, ImageEnhance\n",
    "import customtkinter as ctk\n",
    "import cv2\n",
    "import numpy as np\n",
    "from scipy.signal import convolve2d\n",
    "from scipy.ndimage import minimum_filter, maximum_filter, median_filter\n",
    "from skimage.filters import roberts, sobel, scharr, prewitt\n",
    "\n",
    "\n",
    "def create_custom_button(parent, text, command, image_path, **kwargs):\n",
    "    icon = ctk.CTkImage(dark_image=Image.open(image_path), size=(20, 20))\n",
    "    button = ctk.CTkButton(\n",
    "        parent,\n",
    "        text=text,\n",
    "        command=command,\n",
    "        image=icon,\n",
    "        font=(\"Arial\", 14, \"bold\"),\n",
    "        text_color=\"#ffffff\",\n",
    "        fg_color=\"#4CAF50\",\n",
    "        hover_color=\"#45a049\",\n",
    "        width=150,\n",
    "        height=40,\n",
    "        border_width=2,\n",
    "        padx=10,\n",
    "        pady=5,\n",
    "        corner_radius=10,\n",
    "        **kwargs\n",
    "    )\n",
    "    return button\n",
    "\n",
    "# Set up the root window and left_frame\n",
    "root = ctk.CTk()\n",
    "left_frame = ctk.CTkFrame(root, width=200, height=600, corner_radius=0, bg_color=\"#333333\")\n",
    "left_frame.pack(side=\"left\", fill=\"y\")\n",
    "\n",
    "# Create and pack buttons\n",
    "median_filter_button = create_custom_button(left_frame, \"Median Blur\", median_filter, \"graph.png\")\n",
    "median_filter_button.pack(pady=10)\n",
    "\n",
    "# Add other buttons as needed...\n",
    "\n",
    "root.mainloop()\n"
   ]
  },
  {
   "cell_type": "code",
   "execution_count": null,
   "id": "70ec9cd2-83e8-4318-a702-ff1c757aa322",
   "metadata": {},
   "outputs": [],
   "source": []
  }
 ],
 "metadata": {
  "kernelspec": {
   "display_name": "Python 3 (ipykernel)",
   "language": "python",
   "name": "python3"
  },
  "language_info": {
   "codemirror_mode": {
    "name": "ipython",
    "version": 3
   },
   "file_extension": ".py",
   "mimetype": "text/x-python",
   "name": "python",
   "nbconvert_exporter": "python",
   "pygments_lexer": "ipython3",
   "version": "3.12.4"
  }
 },
 "nbformat": 4,
 "nbformat_minor": 5
}
