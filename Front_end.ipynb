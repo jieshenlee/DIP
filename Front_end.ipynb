{
 "cells": [
  {
   "cell_type": "code",
   "execution_count": 1,
   "metadata": {},
   "outputs": [],
   "source": [
    "import tkinter as tk\n",
    "from tkinter import filedialog\n",
    "from PIL import ImageTk, Image\n",
    "import customtkinter as ctk\n",
    "import tensorflow as tf\n",
    "import numpy as np"
   ]
  },
  {
   "cell_type": "code",
   "execution_count": 3,
   "metadata": {},
   "outputs": [],
   "source": [
    "import customtkinter as ctk\n",
    "\n",
    "root = ctk.CTk()\n",
    "root.geometry(\"1920x1080\")\n",
    "root.title(\"Neural Style Transfer\")\n",
    "\n",
    "content_image_path = ctk.StringVar()\n",
    "style_image_path = ctk.StringVar()\n",
    "\n",
    "# Set up a 3-column grid layout\n",
    "root.grid_columnconfigure(0, weight=1)  # Left side (Content)\n",
    "root.grid_columnconfigure(1, weight=2)  # Center (Title and Result)\n",
    "root.grid_columnconfigure(2, weight=1)  # Right side (Style)\n",
    "\n",
    "# Title label at the top, centered\n",
    "title_label = ctk.CTkLabel(root, text=\"Neural Style Transfer\", font=('Arial', 40))\n",
    "title_label.grid(row=0, column=1, pady=40)\n",
    "\n",
    "# Content Image Selection\n",
    "content_btn = ctk.CTkButton(root, text=\"Select Content Image\", command=lambda: select_image('content'), width=300, height=50)\n",
    "content_btn.grid(row=1, column=0, padx=100, pady=100)\n",
    "\n",
    "content_img_label = ctk.CTkLabel(root, text=\"Content Image\", font=('Arial', 20))\n",
    "content_img_label.grid(row=2, column=0, padx=20, pady=10, )\n",
    "\n",
    "# Style Image Selection\n",
    "style_btn = ctk.CTkButton(root, text=\"Select Style Image\", command=lambda: select_image('style'), width=300, height=50)\n",
    "style_btn.grid(row=1, column=2, padx=20, pady=10, )\n",
    "\n",
    "style_img_label = ctk.CTkLabel(root, text=\"Style Image\", font=('Arial', 20))\n",
    "style_img_label.grid(row=2, column=2, padx=20, pady=10, )\n",
    "\n",
    "# Start Style Transfer Button in the center\n",
    "start_btn = ctk.CTkButton(root, text=\"Start Style Transfer\", width=400, height=60)  # command=start_style_transfer\n",
    "start_btn.grid(row=3, column=1, pady=40)\n",
    "\n",
    "# Result Image Display in the center, below the Start button\n",
    "result_img_label = ctk.CTkLabel(root, text=\"Result will be displayed here\", font=('Arial', 24))\n",
    "result_img_label.grid(row=4, column=1, pady=40)\n",
    "\n",
    "root.mainloop()\n"
   ]
  },
  {
   "cell_type": "code",
   "execution_count": null,
   "metadata": {},
   "outputs": [],
   "source": []
  },
  {
   "cell_type": "code",
   "execution_count": null,
   "metadata": {},
   "outputs": [],
   "source": []
  }
 ],
 "metadata": {
  "kernelspec": {
   "display_name": "Python 3",
   "language": "python",
   "name": "python3"
  },
  "language_info": {
   "codemirror_mode": {
    "name": "ipython",
    "version": 3
   },
   "file_extension": ".py",
   "mimetype": "text/x-python",
   "name": "python",
   "nbconvert_exporter": "python",
   "pygments_lexer": "ipython3",
   "version": "3.12.7"
  }
 },
 "nbformat": 4,
 "nbformat_minor": 2
}
